{
  "nbformat": 4,
  "nbformat_minor": 0,
  "metadata": {
    "colab": {
      "provenance": [],
      "authorship_tag": "ABX9TyNKStAsNmHkBP2UbgQA7lyx",
      "include_colab_link": true
    },
    "kernelspec": {
      "name": "python3",
      "display_name": "Python 3"
    },
    "language_info": {
      "name": "python"
    }
  },
  "cells": [
    {
      "cell_type": "markdown",
      "metadata": {
        "id": "view-in-github",
        "colab_type": "text"
      },
      "source": [
        "<a href=\"https://colab.research.google.com/github/anujabar/NLP/blob/main/Text_classifier.ipynb\" target=\"_parent\"><img src=\"https://colab.research.google.com/assets/colab-badge.svg\" alt=\"Open In Colab\"/></a>"
      ]
    },
    {
      "cell_type": "code",
      "execution_count": 2,
      "metadata": {
        "colab": {
          "base_uri": "https://localhost:8080/"
        },
        "id": "f6CemNobJMmR",
        "outputId": "d12f202d-7d78-4e49-b515-e4ce3ad04b3a"
      },
      "outputs": [
        {
          "output_type": "stream",
          "name": "stdout",
          "text": [
            "--2024-03-07 13:54:10--  https://raw.githubusercontent.com/lazyprogrammer/machine_learning_examples/master/hmm_class/edgar_allan_poe.txt\n",
            "Resolving raw.githubusercontent.com (raw.githubusercontent.com)... 185.199.108.133, 185.199.110.133, 185.199.109.133, ...\n",
            "Connecting to raw.githubusercontent.com (raw.githubusercontent.com)|185.199.108.133|:443... connected.\n",
            "HTTP request sent, awaiting response... 200 OK\n",
            "Length: 26622 (26K) [text/plain]\n",
            "Saving to: ‘edgar_allan_poe.txt’\n",
            "\n",
            "\redgar_allan_poe.txt   0%[                    ]       0  --.-KB/s               \redgar_allan_poe.txt 100%[===================>]  26.00K  --.-KB/s    in 0.001s  \n",
            "\n",
            "2024-03-07 13:54:10 (18.0 MB/s) - ‘edgar_allan_poe.txt’ saved [26622/26622]\n",
            "\n",
            "--2024-03-07 13:54:10--  https://raw.githubusercontent.com/lazyprogrammer/machine_learning_examples/master/hmm_class/robert_frost.txt\n",
            "Resolving raw.githubusercontent.com (raw.githubusercontent.com)... 185.199.108.133, 185.199.109.133, 185.199.110.133, ...\n",
            "Connecting to raw.githubusercontent.com (raw.githubusercontent.com)|185.199.108.133|:443... connected.\n",
            "HTTP request sent, awaiting response... 200 OK\n",
            "Length: 56286 (55K) [text/plain]\n",
            "Saving to: ‘robert_frost.txt’\n",
            "\n",
            "robert_frost.txt    100%[===================>]  54.97K  --.-KB/s    in 0.01s   \n",
            "\n",
            "2024-03-07 13:54:10 (4.34 MB/s) - ‘robert_frost.txt’ saved [56286/56286]\n",
            "\n"
          ]
        }
      ],
      "source": [
        "!wget -nc https://raw.githubusercontent.com/lazyprogrammer/machine_learning_examples/master/hmm_class/edgar_allan_poe.txt\n",
        "!wget -nc https://raw.githubusercontent.com/lazyprogrammer/machine_learning_examples/master/hmm_class/robert_frost.txt"
      ]
    },
    {
      "cell_type": "code",
      "source": [
        "import numpy as np\n",
        "import matplotlib.pyplot as plt\n",
        "import string\n",
        "from sklearn.model_selection import train_test_split"
      ],
      "metadata": {
        "id": "t0cIh-N1LBa3"
      },
      "execution_count": 3,
      "outputs": []
    },
    {
      "cell_type": "code",
      "source": [
        "input_files=[\n",
        "    'edgar_allan_poe.txt',\n",
        "    'robert_frost.txt'\n",
        "]"
      ],
      "metadata": {
        "id": "qRnTFdP6LP1L"
      },
      "execution_count": 4,
      "outputs": []
    },
    {
      "cell_type": "code",
      "source": [
        "!head edgar_allan_poe.txt"
      ],
      "metadata": {
        "colab": {
          "base_uri": "https://localhost:8080/"
        },
        "id": "qdcUkl1gLaaT",
        "outputId": "3dcbb297-f45b-4dfc-9d0d-01999aaf221f"
      },
      "execution_count": 5,
      "outputs": [
        {
          "output_type": "stream",
          "name": "stdout",
          "text": [
            "LO! Death hath rear'd himself a throne\n",
            "In a strange city, all alone,\n",
            "Far down within the dim west\n",
            "Where the good, and the bad, and the worst, and the best,\n",
            "Have gone to their eternal rest.\n",
            " \n",
            "There shrines, and palaces, and towers\n",
            "Are not like any thing of ours\n",
            "Oh no! O no! ours never loom\n",
            "To heaven with that ungodly gloom!\n"
          ]
        }
      ]
    },
    {
      "cell_type": "code",
      "source": [
        "!head robert_frost.txt"
      ],
      "metadata": {
        "colab": {
          "base_uri": "https://localhost:8080/"
        },
        "id": "8MXdZgN4Mjso",
        "outputId": "70df0018-4ec4-41a2-88e3-a4b7eada7d6a"
      },
      "execution_count": 6,
      "outputs": [
        {
          "output_type": "stream",
          "name": "stdout",
          "text": [
            "Two roads diverged in a yellow wood,\n",
            "And sorry I could not travel both\n",
            "And be one traveler, long I stood\n",
            "And looked down one as far as I could\n",
            "To where it bent in the undergrowth; \n",
            "\n",
            "Then took the other, as just as fair,\n",
            "And having perhaps the better claim\n",
            "Because it was grassy and wanted wear,\n",
            "Though as for that the passing there\n"
          ]
        }
      ]
    },
    {
      "cell_type": "code",
      "source": [
        "input_texts=[]\n",
        "labels=[]\n",
        "for label,f in enumerate(input_files):\n",
        "  print(f\"{f} corresponds to label {label}\")\n",
        "  for line in open(f):\n",
        "    line=line.rstrip().lower()\n",
        "    if line:\n",
        "      line=line.translate(str.maketrans('','',string.punctuation))#remove punctuation\n",
        "      input_texts.append(line)\n",
        "      labels.append(label)"
      ],
      "metadata": {
        "colab": {
          "base_uri": "https://localhost:8080/"
        },
        "id": "DSOJMVrSMpX6",
        "outputId": "c39dbe6a-26da-4645-a1d3-1f7ef729a811"
      },
      "execution_count": 7,
      "outputs": [
        {
          "output_type": "stream",
          "name": "stdout",
          "text": [
            "edgar_allan_poe.txt corresponds to label 0\n",
            "robert_frost.txt corresponds to label 1\n"
          ]
        }
      ]
    },
    {
      "cell_type": "code",
      "source": [
        "train_text,test_text,Y_train,Y_test=train_test_split(input_texts,labels)"
      ],
      "metadata": {
        "id": "JlcB9atAPunI"
      },
      "execution_count": 8,
      "outputs": []
    },
    {
      "cell_type": "code",
      "source": [
        "train_text[:5]"
      ],
      "metadata": {
        "colab": {
          "base_uri": "https://localhost:8080/"
        },
        "id": "lLdUobAkP2YA",
        "outputId": "c2bfbf3b-2e97-4481-c1aa-8a954fe26f00"
      },
      "execution_count": 9,
      "outputs": [
        {
          "output_type": "execute_result",
          "data": {
            "text/plain": [
              "['from north to south across the blue',\n",
              " 'when the hours flew brightly by',\n",
              " 'the road there if youll let a guide direct you',\n",
              " 'and both that morning equally lay',\n",
              " 'to the lethean peace of the skies']"
            ]
          },
          "metadata": {},
          "execution_count": 9
        }
      ]
    },
    {
      "cell_type": "code",
      "source": [
        "Y_train[:5]"
      ],
      "metadata": {
        "colab": {
          "base_uri": "https://localhost:8080/"
        },
        "id": "x2Z28VdDP94Z",
        "outputId": "da1765f0-c261-4ec9-b5d1-65981421caca"
      },
      "execution_count": 10,
      "outputs": [
        {
          "output_type": "execute_result",
          "data": {
            "text/plain": [
              "[1, 0, 1, 1, 0]"
            ]
          },
          "metadata": {},
          "execution_count": 10
        }
      ]
    },
    {
      "cell_type": "code",
      "source": [
        "#to convert text to int i.e. indexes into the markov matrix\n",
        "idx=1\n",
        "word2idx={'<unk>':0}# unknown token index set to 0"
      ],
      "metadata": {
        "id": "yShbXKItTmkM"
      },
      "execution_count": 11,
      "outputs": []
    },
    {
      "cell_type": "code",
      "source": [
        "# index words in train data\n",
        "for text in train_text:\n",
        "  tokens=text.split()\n",
        "  for token in tokens:\n",
        "    if token not in word2idx:\n",
        "      word2idx[token]=idx\n",
        "      idx+=1\n",
        ""
      ],
      "metadata": {
        "id": "CRTphprbVdhG"
      },
      "execution_count": 12,
      "outputs": []
    },
    {
      "cell_type": "code",
      "source": [
        "word2idx"
      ],
      "metadata": {
        "colab": {
          "base_uri": "https://localhost:8080/"
        },
        "id": "9PXsGdpkYWW_",
        "outputId": "5c77750d-8df2-4589-ac16-443c683b8b65"
      },
      "execution_count": 13,
      "outputs": [
        {
          "output_type": "execute_result",
          "data": {
            "text/plain": [
              "{'<unk>': 0,\n",
              " 'from': 1,\n",
              " 'north': 2,\n",
              " 'to': 3,\n",
              " 'south': 4,\n",
              " 'across': 5,\n",
              " 'the': 6,\n",
              " 'blue': 7,\n",
              " 'when': 8,\n",
              " 'hours': 9,\n",
              " 'flew': 10,\n",
              " 'brightly': 11,\n",
              " 'by': 12,\n",
              " 'road': 13,\n",
              " 'there': 14,\n",
              " 'if': 15,\n",
              " 'youll': 16,\n",
              " 'let': 17,\n",
              " 'a': 18,\n",
              " 'guide': 19,\n",
              " 'direct': 20,\n",
              " 'you': 21,\n",
              " 'and': 22,\n",
              " 'both': 23,\n",
              " 'that': 24,\n",
              " 'morning': 25,\n",
              " 'equally': 26,\n",
              " 'lay': 27,\n",
              " 'lethean': 28,\n",
              " 'peace': 29,\n",
              " 'of': 30,\n",
              " 'skies': 31,\n",
              " 'upon': 32,\n",
              " 'left': 33,\n",
              " 'all': 34,\n",
              " 'way': 35,\n",
              " 'along': 36,\n",
              " 'but': 37,\n",
              " 'only': 38,\n",
              " 'so': 39,\n",
              " 'an': 40,\n",
              " 'hour': 41,\n",
              " 'wanderers': 42,\n",
              " 'in': 43,\n",
              " 'happy': 44,\n",
              " 'valley': 45,\n",
              " 'either': 46,\n",
              " 'looking': 47,\n",
              " 'for': 48,\n",
              " 'or': 49,\n",
              " 'finding': 50,\n",
              " 'something': 51,\n",
              " 'heaven': 52,\n",
              " 'gives': 53,\n",
              " 'it': 54,\n",
              " 'glimpses': 55,\n",
              " 'those': 56,\n",
              " 'its': 57,\n",
              " 'raining': 58,\n",
              " 'cant': 59,\n",
              " 'i': 60,\n",
              " 'get': 61,\n",
              " 'root': 62,\n",
              " 'me': 63,\n",
              " 'on': 64,\n",
              " 'floor': 65,\n",
              " 'oh': 66,\n",
              " 'kept': 67,\n",
              " 'first': 68,\n",
              " 'another': 69,\n",
              " 'day': 70,\n",
              " 'creaking': 71,\n",
              " 'with': 72,\n",
              " 'buggy': 73,\n",
              " 'load': 74,\n",
              " 'grain': 75,\n",
              " 'nebulous': 76,\n",
              " 'lustre': 77,\n",
              " 'was': 78,\n",
              " 'born': 79,\n",
              " 'cannot': 80,\n",
              " 'be': 81,\n",
              " 'lady': 82,\n",
              " 'alone': 83,\n",
              " 'groan': 84,\n",
              " 'as': 85,\n",
              " 'they': 86,\n",
              " 'roll': 87,\n",
              " 'down': 88,\n",
              " 'mount': 89,\n",
              " 'yaanek': 90,\n",
              " 'awake': 91,\n",
              " 'us': 92,\n",
              " 'tis': 93,\n",
              " 'symbol': 94,\n",
              " 'token': 95,\n",
              " 'whats': 96,\n",
              " 'real': 97,\n",
              " 'trouble': 98,\n",
              " 'what': 99,\n",
              " 'will': 100,\n",
              " 'satisfy': 101,\n",
              " 'her': 102,\n",
              " 'lipbegotten': 103,\n",
              " 'words': 104,\n",
              " 'hog': 105,\n",
              " 'reeve': 106,\n",
              " 'march': 107,\n",
              " 'meeting': 108,\n",
              " 'here': 109,\n",
              " 'warren': 110,\n",
              " 'theres': 111,\n",
              " 'dead': 112,\n",
              " 'are': 113,\n",
              " 'keeping': 114,\n",
              " 'back': 115,\n",
              " 'up': 116,\n",
              " 'tangle': 117,\n",
              " 'withered': 118,\n",
              " 'weeds': 119,\n",
              " 'have': 120,\n",
              " 'hidden': 121,\n",
              " 'instep': 122,\n",
              " 'arch': 123,\n",
              " 'said': 124,\n",
              " 'youd': 125,\n",
              " 'seen': 126,\n",
              " 'stone': 127,\n",
              " 'baptismal': 128,\n",
              " 'font': 129,\n",
              " 'likely': 130,\n",
              " 'regard': 131,\n",
              " 'sacred': 132,\n",
              " 'is': 133,\n",
              " 'written': 134,\n",
              " 'sweet': 135,\n",
              " 'sister': 136,\n",
              " 'attic': 137,\n",
              " 'less': 138,\n",
              " 'than': 139,\n",
              " 'cellar': 140,\n",
              " 'my': 141,\n",
              " 'window': 142,\n",
              " 'glass': 143,\n",
              " 'our': 144,\n",
              " 'thoughts': 145,\n",
              " 'were': 146,\n",
              " 'palsied': 147,\n",
              " 'sere': 148,\n",
              " 'looked': 149,\n",
              " 'like': 150,\n",
              " 'lightning': 151,\n",
              " 'scribble': 152,\n",
              " 'where': 153,\n",
              " 'good': 154,\n",
              " 'bad': 155,\n",
              " 'worst': 156,\n",
              " 'best': 157,\n",
              " 'shall': 158,\n",
              " 'endless': 159,\n",
              " 'theme': 160,\n",
              " 'praise': 161,\n",
              " 'he': 162,\n",
              " 'thinks': 163,\n",
              " 'say': 164,\n",
              " 'word': 165,\n",
              " 'who': 166,\n",
              " 'may': 167,\n",
              " 'just': 168,\n",
              " 'ahead': 169,\n",
              " 'foot': 170,\n",
              " 'doorsill': 171,\n",
              " 'other': 172,\n",
              " 'corner': 173,\n",
              " 'piece': 174,\n",
              " 'yankees': 175,\n",
              " 'always': 176,\n",
              " 'ridgely': 177,\n",
              " 'torrence': 178,\n",
              " 'one': 179,\n",
              " 'thing': 180,\n",
              " 'help': 181,\n",
              " 'liking': 182,\n",
              " 'about': 183,\n",
              " 'john': 184,\n",
              " 'some': 185,\n",
              " 'ice': 186,\n",
              " 'must': 187,\n",
              " 'right': 188,\n",
              " 'leave': 189,\n",
              " 'him': 190,\n",
              " 'ye': 191,\n",
              " 'avengers': 192,\n",
              " 'libertys': 193,\n",
              " 'wrongs': 194,\n",
              " 'half': 195,\n",
              " 'ear': 196,\n",
              " 'pianos': 197,\n",
              " 'vigor': 198,\n",
              " 'their': 199,\n",
              " 'odorous': 200,\n",
              " 'souls': 201,\n",
              " 'ecstatic': 202,\n",
              " 'death': 203,\n",
              " 'could': 204,\n",
              " 'hope': 205,\n",
              " 'utter': 206,\n",
              " 'spells': 207,\n",
              " 'broken': 208,\n",
              " 'went': 209,\n",
              " 'sleep': 210,\n",
              " 'before': 211,\n",
              " 'bed': 212,\n",
              " 'well—i—be—': 213,\n",
              " 'sees': 214,\n",
              " 'now': 215,\n",
              " 'travellers': 216,\n",
              " 'within': 217,\n",
              " 'sun': 218,\n",
              " 'weeping': 219,\n",
              " 'bless': 220,\n",
              " 'thee': 221,\n",
              " 'son': 222,\n",
              " 'knows': 223,\n",
              " 'story': 224,\n",
              " 'twas': 225,\n",
              " 'not': 226,\n",
              " 'unembodied': 227,\n",
              " 'essence': 228,\n",
              " 'no': 229,\n",
              " 'more': 230,\n",
              " 'sounds': 231,\n",
              " 'sweep': 232,\n",
              " 'tying': 233,\n",
              " 'together': 234,\n",
              " 'coming': 235,\n",
              " 'had': 236,\n",
              " 'choice': 237,\n",
              " 'sit': 238,\n",
              " 'tell': 239,\n",
              " 'everything': 240,\n",
              " 'besides': 241,\n",
              " 'wear': 242,\n",
              " 'iron': 243,\n",
              " 'wagon': 244,\n",
              " 'wheels': 245,\n",
              " 'we': 246,\n",
              " 'go': 247,\n",
              " 'at': 248,\n",
              " 'sight': 249,\n",
              " 'thine': 250,\n",
              " 'once': 251,\n",
              " 'explain': 252,\n",
              " 'any': 253,\n",
              " 'youth': 254,\n",
              " 'known': 255,\n",
              " 'whom': 256,\n",
              " 'earth': 257,\n",
              " 'reconnoitre': 258,\n",
              " 'then': 259,\n",
              " 'made': 260,\n",
              " 'mind': 261,\n",
              " 'old': 262,\n",
              " 'love': 263,\n",
              " 'impulse': 264,\n",
              " 'care': 265,\n",
              " 'see': 266,\n",
              " 'myself': 267,\n",
              " 'birch': 268,\n",
              " 'ripples': 269,\n",
              " 'curl': 270,\n",
              " 'alas': 271,\n",
              " 'bird': 272,\n",
              " 'angelic': 273,\n",
              " 'gift': 274,\n",
              " 'which': 275,\n",
              " 'headed': 276,\n",
              " 'for—': 277,\n",
              " 'much': 278,\n",
              " 'sell': 279,\n",
              " 'theyre': 280,\n",
              " 'worth': 281,\n",
              " 'keep': 282,\n",
              " 'dropped': 283,\n",
              " 'eyes': 284,\n",
              " 'unwilling': 285,\n",
              " 'door': 286,\n",
              " 'legended': 287,\n",
              " 'tomb': 288,\n",
              " 'legitimately': 289,\n",
              " 'demand': 290,\n",
              " 'stained': 291,\n",
              " 'vegetation': 292,\n",
              " 'above': 293,\n",
              " 'gone': 294,\n",
              " 'far': 295,\n",
              " 'youve': 296,\n",
              " 'heard': 297,\n",
              " 'estelles': 298,\n",
              " 'run': 299,\n",
              " 'off': 300,\n",
              " 'time': 301,\n",
              " 'she': 302,\n",
              " 'would': 303,\n",
              " 'rid': 304,\n",
              " 'books': 305,\n",
              " 'this': 306,\n",
              " 'talkedof': 307,\n",
              " 'mystery': 308,\n",
              " 'birth': 309,\n",
              " 'cypress': 310,\n",
              " 'psyche': 311,\n",
              " 'soul': 312,\n",
              " 'uplifting': 313,\n",
              " 'finger': 314,\n",
              " 'many': 315,\n",
              " 'make': 316,\n",
              " 'out': 317,\n",
              " 'plowed': 318,\n",
              " 'ground': 319,\n",
              " 'cold': 320,\n",
              " 'digger': 321,\n",
              " 'excuse': 322,\n",
              " 'ask': 323,\n",
              " 'bluebells': 324,\n",
              " 'gracing': 325,\n",
              " 'tunnel': 326,\n",
              " 'mouth': 327,\n",
              " 'truth': 328,\n",
              " 'virtue': 329,\n",
              " 'humanity': 330,\n",
              " 'doesnt': 331,\n",
              " 'seem': 332,\n",
              " 'id': 333,\n",
              " 'courage': 334,\n",
              " 'into': 335,\n",
              " 'came': 336,\n",
              " 'how': 337,\n",
              " 'visions': 338,\n",
              " 'maiden': 339,\n",
              " 'wonder': 340,\n",
              " 'hes': 341,\n",
              " 'sold': 342,\n",
              " 'his': 343,\n",
              " 'farm': 344,\n",
              " 'tutelar': 345,\n",
              " 'shrine': 346,\n",
              " 'staid': 347,\n",
              " 'night': 348,\n",
              " 'shelter': 349,\n",
              " 'quickening': 350,\n",
              " 'spell': 351,\n",
              " 'doth': 352,\n",
              " 'oer': 353,\n",
              " 'pass': 354,\n",
              " 'hast': 355,\n",
              " 'thou': 356,\n",
              " 'torn': 357,\n",
              " 'naiad': 358,\n",
              " 'flood': 359,\n",
              " 'grave': 360,\n",
              " 'growing': 361,\n",
              " 'grown': 362,\n",
              " 'walked': 363,\n",
              " 'sunday': 364,\n",
              " 'after': 365,\n",
              " 'church': 366,\n",
              " 'too': 367,\n",
              " 'last': 368,\n",
              " 'cloud': 369,\n",
              " 'smoke': 370,\n",
              " 'wild': 371,\n",
              " 'apple': 372,\n",
              " 'trees': 373,\n",
              " 'young': 374,\n",
              " 'tender': 375,\n",
              " 'bark': 376,\n",
              " 'mean': 377,\n",
              " 'thats': 378,\n",
              " 'johns': 379,\n",
              " 'idea': 380,\n",
              " 'through': 381,\n",
              " 'two': 382,\n",
              " 'luminous': 383,\n",
              " 'windows': 384,\n",
              " 'saw': 385,\n",
              " 'sunshine': 386,\n",
              " 'eddy': 387,\n",
              " 'over': 388,\n",
              " 'toppling': 389,\n",
              " 'weak': 390,\n",
              " 'ministers': 391,\n",
              " 'yet': 392,\n",
              " 'slave': 393,\n",
              " 'little': 394,\n",
              " 'tin': 395,\n",
              " 'box': 396,\n",
              " 'cupboard': 397,\n",
              " 'shelf': 398,\n",
              " 'winter': 399,\n",
              " 'might': 400,\n",
              " 'short': 401,\n",
              " 'fever': 402,\n",
              " 'moonbeam': 403,\n",
              " 'hangs': 404,\n",
              " 'wanted': 405,\n",
              " 'try': 406,\n",
              " 'noise': 407,\n",
              " 'spirit': 408,\n",
              " 'knew': 409,\n",
              " 'though': 410,\n",
              " 'passing': 411,\n",
              " 'ours': 412,\n",
              " 'also': 413,\n",
              " 'great': 414,\n",
              " 'lest': 415,\n",
              " 'should': 416,\n",
              " 'truant': 417,\n",
              " 'summer': 418,\n",
              " 'passed': 419,\n",
              " 'place': 420,\n",
              " 'richer': 421,\n",
              " 'wilder': 422,\n",
              " 'diviner': 423,\n",
              " 'guess': 424,\n",
              " 'estelle': 425,\n",
              " 'filled': 426,\n",
              " 'purse': 427,\n",
              " 'expecting': 428,\n",
              " 'pity': 429,\n",
              " 'often': 430,\n",
              " 'forget': 431,\n",
              " 'lone': 432,\n",
              " 'voices': 433,\n",
              " 'drawn': 434,\n",
              " 'sort': 435,\n",
              " 'passport': 436,\n",
              " 'branch': 437,\n",
              " 'thatd': 438,\n",
              " 'enough': 439,\n",
              " 'days': 440,\n",
              " 'beauty': 441,\n",
              " 'god': 442,\n",
              " 'dark': 443,\n",
              " 'woe': 444,\n",
              " 'sublime': 445,\n",
              " 'laurels': 446,\n",
              " 'belong': 447,\n",
              " 'shell': 448,\n",
              " 'come': 449,\n",
              " 'im': 450,\n",
              " 'mother': 451,\n",
              " 'ill': 452,\n",
              " 'whod': 453,\n",
              " 'remember': 454,\n",
              " 'heman': 455,\n",
              " 'lapish': 456,\n",
              " 'been': 457,\n",
              " 'hawks': 458,\n",
              " 'since': 459,\n",
              " 'chickentime': 460,\n",
              " 'think': 461,\n",
              " 'know': 462,\n",
              " 'country': 463,\n",
              " 'whatever': 464,\n",
              " 'cost': 465,\n",
              " 'apiece': 466,\n",
              " 'pound': 467,\n",
              " 'stark': 468,\n",
              " 'inquired': 469,\n",
              " 'matter': 470,\n",
              " 'proof': 471,\n",
              " 'well': 472,\n",
              " 'believe': 473,\n",
              " 'light': 474,\n",
              " 'fraught': 475,\n",
              " 'natures': 476,\n",
              " 'green': 477,\n",
              " 'gold': 478,\n",
              " 'sink': 479,\n",
              " 'under': 480,\n",
              " 'being': 481,\n",
              " 'man': 482,\n",
              " 'wife': 483,\n",
              " 'seems': 484,\n",
              " 'helpless': 485,\n",
              " 'own': 486,\n",
              " 'fervour': 487,\n",
              " 'power': 488,\n",
              " 'hardly': 489,\n",
              " 'breathe': 490,\n",
              " 'uttered': 491,\n",
              " 'highest': 492,\n",
              " 'noon': 493,\n",
              " 'struck': 494,\n",
              " 'hand': 495,\n",
              " 'brittle': 496,\n",
              " 'acquainted': 497,\n",
              " 'really': 498,\n",
              " 'your': 499,\n",
              " 'dwelling': 500,\n",
              " 'hall': 501,\n",
              " 'touch': 502,\n",
              " 'friends': 503,\n",
              " 'hold': 504,\n",
              " 'favor': 505,\n",
              " 'fire': 506,\n",
              " 'otherwise': 507,\n",
              " 'fall': 508,\n",
              " 'life': 509,\n",
              " 'gather': 510,\n",
              " 'wet': 511,\n",
              " 'snow': 512,\n",
              " 'berries': 513,\n",
              " 'does': 514,\n",
              " 'look': 515,\n",
              " 'hopes': 516,\n",
              " 'hole': 517,\n",
              " 'somewhere': 518,\n",
              " 'heel': 519,\n",
              " 'talk': 520,\n",
              " 'serious': 521,\n",
              " 'sober': 522,\n",
              " 'sound': 523,\n",
              " 'silence': 524,\n",
              " 'sends': 525,\n",
              " 'pearl': 526,\n",
              " 'ruby': 527,\n",
              " 'glowing': 528,\n",
              " 'tonight': 529,\n",
              " 'dont': 530,\n",
              " 'lie': 531,\n",
              " 'someone': 532,\n",
              " 'cart': 533,\n",
              " 'pair': 534,\n",
              " 'seven': 535,\n",
              " 'while': 536,\n",
              " 'even': 537,\n",
              " 'meridian': 538,\n",
              " 'glare': 539,\n",
              " 'long': 540,\n",
              " 'cake': 541,\n",
              " 'end': 542,\n",
              " 'vista': 543,\n",
              " 'feel': 544,\n",
              " 'feeling': 545,\n",
              " 'near': 546,\n",
              " 'paradise': 547,\n",
              " 'can': 548,\n",
              " 'do': 549,\n",
              " 'shes': 550,\n",
              " 'done': 551,\n",
              " 'harm': 552,\n",
              " 'herself': 553,\n",
              " 'gods': 554,\n",
              " 'sake': 555,\n",
              " 'arent': 556,\n",
              " 'fond': 557,\n",
              " 'viewing': 558,\n",
              " 'nature': 559,\n",
              " 'bones': 560,\n",
              " 'yes': 561,\n",
              " 'important': 562,\n",
              " 'isnt': 563,\n",
              " 'stock': 564,\n",
              " 'counts': 565,\n",
              " 'ideals': 566,\n",
              " 'pushed': 567,\n",
              " 'upstairs': 568,\n",
              " 'burden': 569,\n",
              " 'body': 570,\n",
              " 'song': 571,\n",
              " 'terror': 572,\n",
              " 'spoke': 573,\n",
              " 'letting': 574,\n",
              " 'unimpassioned': 575,\n",
              " 'unfortunately': 576,\n",
              " 'kind': 577,\n",
              " 'sing': 578,\n",
              " 'wildly': 579,\n",
              " 'world': 580,\n",
              " 'thy': 581,\n",
              " 'gentle': 582,\n",
              " 'ways': 583,\n",
              " 'nothing': 584,\n",
              " 'stay': 585,\n",
              " 'headboard': 586,\n",
              " 'wants': 587,\n",
              " 'brought': 588,\n",
              " 'dread': 589,\n",
              " 'these': 590,\n",
              " 'cheeks': 591,\n",
              " 'worm': 592,\n",
              " 'never': 593,\n",
              " 'dies': 594,\n",
              " 'stumps': 595,\n",
              " 'still': 596,\n",
              " 'bleeding': 597,\n",
              " 'away': 598,\n",
              " 'memories': 599,\n",
              " 'treacherous': 600,\n",
              " 'untidy': 601,\n",
              " 'hath': 602,\n",
              " 'ever': 603,\n",
              " 'told': 604,\n",
              " 'thought': 605,\n",
              " 'longer': 606,\n",
              " 'axis': 607,\n",
              " 'gushing': 608,\n",
              " 'strange': 609,\n",
              " 'tears': 610,\n",
              " 'sometimes': 611,\n",
              " 'authority': 612,\n",
              " 'strapping': 613,\n",
              " 'girl': 614,\n",
              " 'twenty': 615,\n",
              " 'signify': 616,\n",
              " 'donkeys': 617,\n",
              " 'cars': 618,\n",
              " 'bottle': 619,\n",
              " 'lyre': 620,\n",
              " 'sky': 621,\n",
              " 'memory': 622,\n",
              " 'accursed': 623,\n",
              " 'small': 624,\n",
              " 'dignity': 625,\n",
              " 'mien': 626,\n",
              " 'town': 627,\n",
              " 'settle': 628,\n",
              " 'hence': 629,\n",
              " 'riddle': 630,\n",
              " 'genealogy': 631,\n",
              " 'mistake': 632,\n",
              " 'dear': 633,\n",
              " 'interest': 634,\n",
              " 'worry': 635,\n",
              " 'stood': 636,\n",
              " 'strain': 637,\n",
              " 'room': 638,\n",
              " 'show': 639,\n",
              " 'wait': 640,\n",
              " 'until': 641,\n",
              " 'give': 642,\n",
              " 'sproutlands': 643,\n",
              " 'flourish': 644,\n",
              " 'axe': 645,\n",
              " 'has': 646,\n",
              " 'champions': 647,\n",
              " 'devoted': 648,\n",
              " 'brave': 649,\n",
              " 'neighbour': 650,\n",
              " 'moment': 651,\n",
              " 'balancing': 652,\n",
              " 'emotion': 653,\n",
              " 'stairs': 654,\n",
              " 'stand': 655,\n",
              " 'perplexed': 656,\n",
              " 'watchman': 657,\n",
              " 'beat': 658,\n",
              " 'taken': 659,\n",
              " 'thus': 660,\n",
              " 'family': 661,\n",
              " 'towers': 662,\n",
              " 'thrown': 663,\n",
              " 'aside': 664,\n",
              " 'west': 665,\n",
              " 'worse': 666,\n",
              " 'fight': 667,\n",
              " 'desert': 668,\n",
              " 'tottering': 669,\n",
              " 'repeatedly': 670,\n",
              " 'strove': 671,\n",
              " 'sinners': 672,\n",
              " 'sacrifice': 673,\n",
              " 'o': 674,\n",
              " 'loom': 675,\n",
              " 'blushed': 676,\n",
              " 'bloomed': 677,\n",
              " 'huh': 678,\n",
              " 'bathtub': 679,\n",
              " 'surpassing': 680,\n",
              " 'verse': 681,\n",
              " 'escaped': 682,\n",
              " 'outrage': 683,\n",
              " 'folks': 684,\n",
              " 'set': 685,\n",
              " 'swish': 686,\n",
              " 'grass': 687,\n",
              " 'others': 688,\n",
              " 'nearest': 689,\n",
              " 'resembles': 690,\n",
              " 'worship': 691,\n",
              " 'gourd': 692,\n",
              " 'grape': 693,\n",
              " 'luxuriant': 694,\n",
              " 'grew': 695,\n",
              " 'flickers': 696,\n",
              " 'lost': 697,\n",
              " 'budded': 698,\n",
              " 'boughs': 699,\n",
              " 'piled': 700,\n",
              " 'ago': 701,\n",
              " 'journey': 702,\n",
              " 'field': 703,\n",
              " 'daring': 704,\n",
              " 'ambition': 705,\n",
              " 'deep': 706,\n",
              " 'agony': 707,\n",
              " 'sobbed': 708,\n",
              " 'gentlest': 709,\n",
              " 'names': 710,\n",
              " 'dost': 711,\n",
              " 'take': 712,\n",
              " 'blend': 713,\n",
              " 'turrets': 714,\n",
              " 'shadows': 715,\n",
              " 'waves': 716,\n",
              " 'redder': 717,\n",
              " 'glow': 718,\n",
              " 'sweets': 719,\n",
              " 'sours': 720,\n",
              " 'bank': 721,\n",
              " 'note': 722,\n",
              " 'fold': 723,\n",
              " 'miles': 724,\n",
              " 'abode': 725,\n",
              " 'nights': 726,\n",
              " 'year': 727,\n",
              " 'wind': 728,\n",
              " 'dared': 729,\n",
              " 'stir': 730,\n",
              " 'unless': 731,\n",
              " 'tiptoe': 732,\n",
              " 'them': 733,\n",
              " 'swamp': 734,\n",
              " 'cedar': 735,\n",
              " 'choked': 736,\n",
              " 'oil': 737,\n",
              " 'eye': 738,\n",
              " 'sos': 739,\n",
              " 'comfort': 740,\n",
              " 'sew': 741,\n",
              " 'stole': 742,\n",
              " 'goblet': 743,\n",
              " 'childrens': 744,\n",
              " 'playhouse': 745,\n",
              " 'street': 746,\n",
              " 'nowhere': 747,\n",
              " 'toffile': 748,\n",
              " 'didnt': 749,\n",
              " 'hear': 750,\n",
              " 'stop': 751,\n",
              " 'stampede': 752,\n",
              " 'lord': 753,\n",
              " 'warriors': 754,\n",
              " 'unknown': 755,\n",
              " 'foe': 756,\n",
              " 'granny': 757,\n",
              " 'speaking': 758,\n",
              " 'dunnow': 759,\n",
              " 'began': 760,\n",
              " 'footsteps': 761,\n",
              " 'each': 762,\n",
              " 'step': 763,\n",
              " 'legs': 764,\n",
              " 'early': 765,\n",
              " 'mormons': 766,\n",
              " 'settlement': 767,\n",
              " 'gnaw': 768,\n",
              " 'posts': 769,\n",
              " 'fences': 770,\n",
              " 'enamored': 771,\n",
              " 'moon': 772,\n",
              " 'ive': 773,\n",
              " 'got': 774,\n",
              " 'news': 775,\n",
              " 'maybe': 776,\n",
              " 'entertain': 777,\n",
              " 'birds': 778,\n",
              " 'flowers': 779,\n",
              " 'brown': 780,\n",
              " 'lived': 781,\n",
              " 'such': 782,\n",
              " 'lofty': 783,\n",
              " 'deeptoned': 784,\n",
              " 'throats': 785,\n",
              " 'house': 786,\n",
              " 'harmodious': 787,\n",
              " 'gallant': 788,\n",
              " 'youre': 789,\n",
              " 'for—montreal': 790,\n",
              " 'despairs': 791,\n",
              " 'unhallowed': 792,\n",
              " 'deserted': 793,\n",
              " 'pauses': 794,\n",
              " 'gems': 795,\n",
              " 'turn': 796,\n",
              " 'nor': 797,\n",
              " 'need': 798,\n",
              " 'serial': 799,\n",
              " 'ordeal': 800,\n",
              " 'original': 801,\n",
              " 'rage': 802,\n",
              " 'silver': 803,\n",
              " 'tinkling': 804,\n",
              " 'mebbe': 805,\n",
              " 'wrong': 806,\n",
              " 'bill': 807,\n",
              " 'open': 808,\n",
              " 'turned': 809,\n",
              " 'fathom': 810,\n",
              " 'around': 811,\n",
              " 'lifting': 812,\n",
              " 'winds': 813,\n",
              " 'forgot': 814,\n",
              " 'fair': 815,\n",
              " 'stately': 816,\n",
              " 'palace': 817,\n",
              " 'ashes': 818,\n",
              " 'whence': 819,\n",
              " 'spring': 820,\n",
              " 'grow': 821,\n",
              " 'very': 822,\n",
              " 'roses': 823,\n",
              " 'odors': 824,\n",
              " 'beside': 825,\n",
              " 'track': 826,\n",
              " 'hed': 827,\n",
              " 'admiring': 828,\n",
              " 'universal': 829,\n",
              " 'throne': 830,\n",
              " 'single': 831,\n",
              " 'leaf': 832,\n",
              " 'bough': 833,\n",
              " 'fathomless': 834,\n",
              " 'capacity': 835,\n",
              " 'bring': 836,\n",
              " 'chalkpile': 837,\n",
              " 'faroff': 838,\n",
              " 'happier': 839,\n",
              " 'sea': 840,\n",
              " 'evening': 841,\n",
              " 'walk': 842,\n",
              " 'bade': 843,\n",
              " 'pause': 844,\n",
              " 'gardengate': 845,\n",
              " 'bewitched': 846,\n",
              " 'truly': 847,\n",
              " 'men': 848,\n",
              " 'witchs': 849,\n",
              " 'motto': 850,\n",
              " 'anyway': 851,\n",
              " 'garden': 852,\n",
              " 'sancta': 853,\n",
              " 'maria': 854,\n",
              " 'misty': 855,\n",
              " 'mid': 856,\n",
              " 'region': 857,\n",
              " 'weir': 858,\n",
              " 'why': 859,\n",
              " 'mothers': 860,\n",
              " 'baby': 861,\n",
              " 'blotting': 862,\n",
              " 'utterly': 863,\n",
              " 'high': 864,\n",
              " 'picking': 865,\n",
              " 'faded': 866,\n",
              " 'arthur': 867,\n",
              " 'amy': 868,\n",
              " 'married': 869,\n",
              " 'resurrected': 870,\n",
              " 'tree': 871,\n",
              " 'castles': 872,\n",
              " 'used': 873,\n",
              " 'build': 874,\n",
              " 'air': 875,\n",
              " 'smell': 876,\n",
              " 'drowned': 877,\n",
              " 'rain': 878,\n",
              " 'star': 879,\n",
              " 'crowd': 880,\n",
              " 'earthly': 881,\n",
              " 'path': 882,\n",
              " 'doubling': 883,\n",
              " 'redoubling': 884,\n",
              " 'twitter': 885,\n",
              " 'else': 886,\n",
              " 'remoteness': 887,\n",
              " 'defied': 888,\n",
              " 'especially': 889,\n",
              " 'tremulous': 890,\n",
              " 'tempt': 891,\n",
              " 'waters': 892,\n",
              " 'liked': 893,\n",
              " 'smoothlaid': 894,\n",
              " 'thatch': 895,\n",
              " 'heavy': 896,\n",
              " 'dew': 897,\n",
              " 'worn': 898,\n",
              " 'same': 899,\n",
              " 'hay': 900,\n",
              " 'rained': 901,\n",
              " 'three': 902,\n",
              " 'times': 903,\n",
              " 'nine': 904,\n",
              " 'removed': 905,\n",
              " 'correct': 906,\n",
              " 'err': 907,\n",
              " 'speak': 908,\n",
              " 'staying': 909,\n",
              " 'wont': 910,\n",
              " 'hideous': 911,\n",
              " 'throng': 912,\n",
              " 'rush': 913,\n",
              " 'forever': 914,\n",
              " 'kinsman': 915,\n",
              " 'going': 916,\n",
              " 'twice': 917,\n",
              " 'flowing': 918,\n",
              " 'anywhere': 919,\n",
              " 'queenly': 920,\n",
              " 'lily': 921,\n",
              " 'adown': 922,\n",
              " 'dale': 923,\n",
              " 'having': 924,\n",
              " 'eased': 925,\n",
              " 'heart': 926,\n",
              " 'copy': 927,\n",
              " 'find': 928,\n",
              " 'ashen': 929,\n",
              " 'shrines': 930,\n",
              " 'palaces': 931,\n",
              " 'poetess': 932,\n",
              " 'wrote': 933,\n",
              " 'book': 934,\n",
              " 'verses': 935,\n",
              " 'safely': 936,\n",
              " 'trust': 937,\n",
              " 'gleaming': 938,\n",
              " 'full': 939,\n",
              " 'common': 940,\n",
              " 'table': 941,\n",
              " 'rear': 942,\n",
              " 'looks': 943,\n",
              " 'gigantically': 944,\n",
              " 'swarm': 945,\n",
              " 'rock': 946,\n",
              " 'makes': 947,\n",
              " 'cast': 948,\n",
              " 'hell': 949,\n",
              " 'want': 950,\n",
              " 'therefore': 951,\n",
              " 'art': 952,\n",
              " 'secret': 953,\n",
              " 'communing': 954,\n",
              " 'held': 955,\n",
              " 'dyou': 956,\n",
              " 'person': 957,\n",
              " 'related': 958,\n",
              " 'ultimate': 959,\n",
              " 'climes': 960,\n",
              " 'pole': 961,\n",
              " 'difference': 962,\n",
              " 'mans': 963,\n",
              " 'affairs': 964,\n",
              " 'every': 965,\n",
              " 'dallied': 966,\n",
              " 'nodded': 967,\n",
              " 'merrily': 968,\n",
              " 'live': 969,\n",
              " 'enchanted': 970,\n",
              " 'isle': 971,\n",
              " 'buy': 972,\n",
              " 'case': 973,\n",
              " 'shattered': 974,\n",
              " 'dishes': 975,\n",
              " 'underneath': 976,\n",
              " 'pine': 977,\n",
              " 'mortgage': 978,\n",
              " 'byroad': 979,\n",
              " 'darkly': 980,\n",
              " 'present': 981,\n",
              " 'past': 982,\n",
              " 'ones': 983,\n",
              " 'hot': 984,\n",
              " 'stardials': 985,\n",
              " 'pointed': 986,\n",
              " 'morn': 987,\n",
              " 'shoulders': 988,\n",
              " 'dragging': 989,\n",
              " 'yellow': 990,\n",
              " 'strands': 991,\n",
              " 'blushes': 992,\n",
              " 'describing': 993,\n",
              " 'rings': 994,\n",
              " 'lantern': 995,\n",
              " 'consideration': 996,\n",
              " 'wave': 997,\n",
              " 'ripple': 998,\n",
              " 'name': 999,\n",
              " ...}"
            ]
          },
          "metadata": {},
          "execution_count": 13
        }
      ]
    },
    {
      "cell_type": "code",
      "source": [
        "len(word2idx)"
      ],
      "metadata": {
        "colab": {
          "base_uri": "https://localhost:8080/"
        },
        "id": "e7sNO_R7YYfS",
        "outputId": "8da99a00-221c-452f-f04f-ae05f7d64a94"
      },
      "execution_count": 14,
      "outputs": [
        {
          "output_type": "execute_result",
          "data": {
            "text/plain": [
              "2519"
            ]
          },
          "metadata": {},
          "execution_count": 14
        }
      ]
    },
    {
      "cell_type": "code",
      "source": [
        "train_text_int=[]\n",
        "test_text_int=[]\n",
        "train_text[:5]"
      ],
      "metadata": {
        "colab": {
          "base_uri": "https://localhost:8080/"
        },
        "id": "0toj0wRpYcEx",
        "outputId": "7e21cf96-66ca-41e3-c7cd-5cf24592d89b"
      },
      "execution_count": 15,
      "outputs": [
        {
          "output_type": "execute_result",
          "data": {
            "text/plain": [
              "['from north to south across the blue',\n",
              " 'when the hours flew brightly by',\n",
              " 'the road there if youll let a guide direct you',\n",
              " 'and both that morning equally lay',\n",
              " 'to the lethean peace of the skies']"
            ]
          },
          "metadata": {},
          "execution_count": 15
        }
      ]
    },
    {
      "cell_type": "code",
      "source": [
        "for text in train_text:\n",
        "  tokens=text.split()\n",
        "  line_as_int=[word2idx[token] for token in tokens]\n",
        "  train_text_int.append(line_as_int)\n",
        "for text in test_text:\n",
        "  tokens=text.split()\n",
        "  line_as_int=[word2idx.get(token,0) for token in tokens] #test data words may not appear in train data, therefore 0\n",
        "  test_text_int.append(line_as_int)"
      ],
      "metadata": {
        "id": "4wUipd2YYiLs"
      },
      "execution_count": 16,
      "outputs": []
    },
    {
      "cell_type": "code",
      "source": [
        "train_text_int[:5]"
      ],
      "metadata": {
        "colab": {
          "base_uri": "https://localhost:8080/"
        },
        "id": "j0AWcCeiZMag",
        "outputId": "7b066a2f-9582-46d5-a073-bdc3cdba7db4"
      },
      "execution_count": 17,
      "outputs": [
        {
          "output_type": "execute_result",
          "data": {
            "text/plain": [
              "[[1, 2, 3, 4, 5, 6, 7],\n",
              " [8, 6, 9, 10, 11, 12],\n",
              " [6, 13, 14, 15, 16, 17, 18, 19, 20, 21],\n",
              " [22, 23, 24, 25, 26, 27],\n",
              " [3, 6, 28, 29, 30, 6, 31]]"
            ]
          },
          "metadata": {},
          "execution_count": 17
        }
      ]
    },
    {
      "cell_type": "code",
      "source": [
        "V=len(word2idx) #vocab size\n",
        "A0=np.ones((V,V)) # M*M M=number of states=V=vocab size\n",
        "pi0=np.ones(V)\n",
        "\n",
        "A1=np.ones((V,V))\n",
        "pi1=np.ones(V)"
      ],
      "metadata": {
        "id": "0k6z9YyiaNI9"
      },
      "execution_count": 18,
      "outputs": []
    },
    {
      "cell_type": "code",
      "source": [
        "def compute_counts(text_as_int,A,pi):\n",
        "  for tokens in text_as_int:\n",
        "    last_idx=None\n",
        "    for idx in tokens:\n",
        "      if last_idx is None:# first word\n",
        "        pi[idx]+=1\n",
        "      else: #transition\n",
        "        A[last_idx,idx]+=1\n",
        "      last_idx=idx\n",
        "compute_counts([t for t,y in zip(train_text_int,Y_train) if y==0],A0,pi0) #class 1\n",
        "compute_counts([t for t,y in zip(train_text_int,Y_train) if y==1],A1,pi1) #class 2"
      ],
      "metadata": {
        "id": "tK4ZoCVqasQr"
      },
      "execution_count": 19,
      "outputs": []
    },
    {
      "cell_type": "code",
      "source": [
        "#normalize A and pi so they are valid probability\n",
        "A0/=A0.sum(axis=1,keepdims=True)\n",
        "pi0/=pi0.sum()\n",
        "\n",
        "A1/=A1.sum(axis=1,keepdims=True)\n",
        "pi1/=pi1.sum()"
      ],
      "metadata": {
        "id": "uu38tu5HEAJc"
      },
      "execution_count": 20,
      "outputs": []
    },
    {
      "cell_type": "code",
      "source": [
        "logA0=np.log(A0)\n",
        "logpi0=np.log(pi0)\n",
        "\n",
        "logA1=np.log(A1)\n",
        "logpi1=np.log(pi1)"
      ],
      "metadata": {
        "id": "wFokZThWFm5Z"
      },
      "execution_count": 21,
      "outputs": []
    },
    {
      "cell_type": "code",
      "source": [
        "#computing prior probability\n",
        "count0=sum(y==0 for y in Y_train)\n",
        "count1=sum(y==1 for y in Y_train)\n",
        "total=len(Y_train)\n",
        "p0=count0/total\n",
        "p1=count1/total\n",
        "logp0=np.log(p0)\n",
        "logp1=np.log(p1)\n",
        "\n",
        "p0,p1"
      ],
      "metadata": {
        "colab": {
          "base_uri": "https://localhost:8080/"
        },
        "id": "bpsiKXnuFyK9",
        "outputId": "297b364a-3cbd-447f-8549-9eee96886f1c"
      },
      "execution_count": 22,
      "outputs": [
        {
          "output_type": "execute_result",
          "data": {
            "text/plain": [
              "(0.3318885448916409, 0.6681114551083591)"
            ]
          },
          "metadata": {},
          "execution_count": 22
        }
      ]
    },
    {
      "cell_type": "code",
      "source": [
        "class Classifier:\n",
        "  def __init__(self,logAs,logpis,logpriors):\n",
        "    self.logAs=logAs\n",
        "    self.logpis=logpis\n",
        "    self.logpriors=logpriors\n",
        "    self.K=len(self.logpriors) # number of classes\n",
        "  def _compute_log_likelihood(self, input_, class_):\n",
        "    logA = self.logAs[class_]\n",
        "    logpi = self.logpis[class_]\n",
        "\n",
        "    last_idx = None\n",
        "    logprob = 0\n",
        "    for idx in input_:\n",
        "      if last_idx is None:\n",
        "        # it's the first token\n",
        "         logprob += logpi[idx]\n",
        "      else:\n",
        "        logprob += logA[last_idx, idx]\n",
        "\n",
        "       # update last_idx\n",
        "      last_idx = idx\n",
        "\n",
        "    return logprob\n",
        "\n",
        "  def predict(self, inputs):\n",
        "    predictions = np.zeros(len(inputs))\n",
        "    for i, input_ in enumerate(inputs):\n",
        "      posteriors = [self._compute_log_likelihood(input_, c) + self.logpriors[c] \\\n",
        "             for c in range(self.K)]\n",
        "      pred = np.argmax(posteriors) # 0 or 1...\n",
        "      predictions[i] = pred\n",
        "    return predictions"
      ],
      "metadata": {
        "id": "ZZEbbv-HyqxB"
      },
      "execution_count": 28,
      "outputs": []
    },
    {
      "cell_type": "code",
      "source": [
        "clf = Classifier([logA0, logA1], [logpi0, logpi1], [logp0, logp1])"
      ],
      "metadata": {
        "id": "tmAljWKQMPtR"
      },
      "execution_count": 30,
      "outputs": []
    },
    {
      "cell_type": "code",
      "source": [
        "Ptrain=clf.predict(train_text_int)\n",
        "print(f\"Train acc: {np.mean(Ptrain == Y_train)}\")"
      ],
      "metadata": {
        "colab": {
          "base_uri": "https://localhost:8080/"
        },
        "id": "wT-gEMfZMdNO",
        "outputId": "5f65d24a-90b6-4492-81c1-7e1714672a9d"
      },
      "execution_count": 32,
      "outputs": [
        {
          "output_type": "stream",
          "name": "stdout",
          "text": [
            "Train acc: 0.9962848297213622\n"
          ]
        }
      ]
    },
    {
      "cell_type": "code",
      "source": [
        "Ptest = clf.predict(test_text_int)\n",
        "print(f\"Test acc: {np.mean(Ptest == Y_test)}\")"
      ],
      "metadata": {
        "colab": {
          "base_uri": "https://localhost:8080/"
        },
        "id": "JYSLv-OhMlPC",
        "outputId": "58e55bb0-16e0-4aa4-b989-e8cd6fd135d6"
      },
      "execution_count": 33,
      "outputs": [
        {
          "output_type": "stream",
          "name": "stdout",
          "text": [
            "Test acc: 0.8293135435992579\n"
          ]
        }
      ]
    },
    {
      "cell_type": "code",
      "source": [
        "from sklearn.metrics import confusion_matrix, f1_score"
      ],
      "metadata": {
        "id": "QSz4t2F0NSxr"
      },
      "execution_count": 34,
      "outputs": []
    },
    {
      "cell_type": "code",
      "source": [
        "cm = confusion_matrix(Y_train, Ptrain)\n",
        "cm"
      ],
      "metadata": {
        "colab": {
          "base_uri": "https://localhost:8080/"
        },
        "id": "1PNN9__pNVP_",
        "outputId": "c3cad4c3-7d12-4e8b-94a8-e5249f26e8cb"
      },
      "execution_count": 37,
      "outputs": [
        {
          "output_type": "execute_result",
          "data": {
            "text/plain": [
              "array([[ 530,    6],\n",
              "       [   0, 1079]])"
            ]
          },
          "metadata": {},
          "execution_count": 37
        }
      ]
    },
    {
      "cell_type": "code",
      "source": [
        "cm_test = confusion_matrix(Y_test, Ptest)\n",
        "cm_test"
      ],
      "metadata": {
        "colab": {
          "base_uri": "https://localhost:8080/"
        },
        "id": "pM05lpqXNXG4",
        "outputId": "c5568717-226c-4744-e84c-001c69d7133b"
      },
      "execution_count": 38,
      "outputs": [
        {
          "output_type": "execute_result",
          "data": {
            "text/plain": [
              "array([[104,  78],\n",
              "       [ 14, 343]])"
            ]
          },
          "metadata": {},
          "execution_count": 38
        }
      ]
    },
    {
      "cell_type": "code",
      "source": [
        "f1_score(Y_train, Ptrain)"
      ],
      "metadata": {
        "colab": {
          "base_uri": "https://localhost:8080/"
        },
        "id": "SE3T-ENCNdV-",
        "outputId": "c76dcb51-92aa-4b75-cf39-f3ed54a4b2a7"
      },
      "execution_count": 41,
      "outputs": [
        {
          "output_type": "execute_result",
          "data": {
            "text/plain": [
              "0.9972273567467653"
            ]
          },
          "metadata": {},
          "execution_count": 41
        }
      ]
    },
    {
      "cell_type": "code",
      "source": [
        "f1_score(Y_test, Ptest)"
      ],
      "metadata": {
        "colab": {
          "base_uri": "https://localhost:8080/"
        },
        "id": "KA6FTDl1NfXk",
        "outputId": "4ca88a3c-fd29-44c4-f20a-593d04d43327"
      },
      "execution_count": 40,
      "outputs": [
        {
          "output_type": "execute_result",
          "data": {
            "text/plain": [
              "0.8817480719794345"
            ]
          },
          "metadata": {},
          "execution_count": 40
        }
      ]
    },
    {
      "cell_type": "code",
      "source": [],
      "metadata": {
        "id": "dVbR1TEpNhoH"
      },
      "execution_count": null,
      "outputs": []
    }
  ]
}